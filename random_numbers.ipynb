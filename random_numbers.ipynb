{
 "cells": [
  {
   "cell_type": "code",
   "execution_count": 1,
   "id": "2689e801",
   "metadata": {},
   "outputs": [],
   "source": [
    "#6.1.4 importing the random module\n",
    "import random\n"
   ]
  },
  {
   "cell_type": "code",
   "execution_count": 2,
   "id": "608d3984",
   "metadata": {},
   "outputs": [
    {
     "data": {
      "text/plain": [
       "0.9424700629253404"
      ]
     },
     "execution_count": 2,
     "metadata": {},
     "output_type": "execute_result"
    }
   ],
   "source": [
    "#a random number, between 0 and 1.0\n",
    "random.random()"
   ]
  },
  {
   "cell_type": "code",
   "execution_count": 3,
   "id": "9ff0f4b5",
   "metadata": {},
   "outputs": [
    {
     "data": {
      "text/plain": [
       "-60"
      ]
     },
     "execution_count": 3,
     "metadata": {},
     "output_type": "execute_result"
    }
   ],
   "source": [
    "#random whole integer in a range, in this case -90 to 90\n",
    "random.randint(-90,90)"
   ]
  },
  {
   "cell_type": "code",
   "execution_count": 4,
   "id": "dce362c1",
   "metadata": {},
   "outputs": [
    {
     "data": {
      "text/plain": [
       "-5"
      ]
     },
     "execution_count": 4,
     "metadata": {},
     "output_type": "execute_result"
    }
   ],
   "source": [
    "#random whole integer in the range that is divisable by the step (in this case 2), will not return a decimal\n",
    "#this will generate incremnets of a given integer value, form the lower to the upper limit\n",
    "random.randrange(-9,9,2)"
   ]
  },
  {
   "cell_type": "code",
   "execution_count": 5,
   "id": "914d2f12",
   "metadata": {},
   "outputs": [
    {
     "data": {
      "text/plain": [
       "-5.814076131342485"
      ]
     },
     "execution_count": 5,
     "metadata": {},
     "output_type": "execute_result"
    }
   ],
   "source": [
    "#random floating point decimal in the range, will not return a whole number\n",
    "random.uniform(-10,10)"
   ]
  },
  {
   "cell_type": "code",
   "execution_count": 6,
   "id": "cc61c068",
   "metadata": {},
   "outputs": [],
   "source": [
    "#this will generate latitudes between -90 and 89\n",
    "#assigning the variable x to 1\n",
    "x=1\n",
    "#initializing an empty list\n",
    "latitudes = []\n",
    "#creating a while loop that generates 10 (as long as x is less than 11) random latitude numbers and adds it to the list\n",
    "while x < 11:\n",
    "    random_lat = random.randint(-90,89) + random.random()\n",
    "    latitudes.append(random_lat)\n",
    "    #adds 1 to x after a latitude is generated\n",
    "    x += 1"
   ]
  },
  {
   "cell_type": "code",
   "execution_count": 7,
   "id": "0b7691c5",
   "metadata": {},
   "outputs": [
    {
     "data": {
      "text/plain": [
       "[16.290871116127597,\n",
       " 54.46615270649061,\n",
       " 18.86313228099643,\n",
       " -11.105818986639575,\n",
       " -24.20801002479341,\n",
       " -49.644905436587706,\n",
       " -51.909276896933505,\n",
       " 30.752995698099205,\n",
       " -5.187996536389913,\n",
       " 87.22142381833709]"
      ]
     },
     "execution_count": 7,
     "metadata": {},
     "output_type": "execute_result"
    }
   ],
   "source": [
    "latitudes"
   ]
  },
  {
   "cell_type": "code",
   "execution_count": 8,
   "id": "c3a86aca",
   "metadata": {},
   "outputs": [
    {
     "data": {
      "text/plain": [
       "-33"
      ]
     },
     "execution_count": 8,
     "metadata": {},
     "output_type": "execute_result"
    }
   ],
   "source": [
    "random.randrange(-90,90, step=3)"
   ]
  },
  {
   "cell_type": "code",
   "execution_count": 9,
   "id": "2512ff70",
   "metadata": {},
   "outputs": [],
   "source": [
    "# Import the NumPy module.\n",
    "import numpy as np"
   ]
  },
  {
   "cell_type": "code",
   "execution_count": 10,
   "id": "f88da1b0",
   "metadata": {},
   "outputs": [
    {
     "data": {
      "text/plain": [
       "85.6758879257909"
      ]
     },
     "execution_count": 10,
     "metadata": {},
     "output_type": "execute_result"
    }
   ],
   "source": [
    "#behaves the same as the random.uniform\n",
    "np.random.uniform(-90.000, 90.000)"
   ]
  },
  {
   "cell_type": "code",
   "execution_count": 11,
   "id": "ec1b14ef",
   "metadata": {},
   "outputs": [
    {
     "data": {
      "text/plain": [
       "array([ 36.72862661,  37.87791107, -77.66329275, -21.56376349,\n",
       "       -19.82140789,  47.48093152,  54.9793103 ,  29.80545824,\n",
       "       -50.89413537, -64.07410888,  57.87359452, -46.43586356,\n",
       "       -48.2619606 ,  -0.51627192,  77.79404081, -41.96991546,\n",
       "       -66.44507807,  27.03403331,  59.33094819, -49.855618  ,\n",
       "        30.24424971, -49.91132485,  -3.9959547 ,  47.2023892 ,\n",
       "        71.86059927,   3.92406124, -50.47606508,  53.00796953,\n",
       "        75.55517378,  32.35816189, -35.03620841, -81.45962925,\n",
       "         2.74137404,  66.79883475,  63.85680871, -47.29798808,\n",
       "        19.17442753,  29.60937107,  32.36314951,  39.63347149,\n",
       "        77.67740341, -52.57702405,  33.22954853,  -9.58266742,\n",
       "        83.20194212, -84.20936417, -37.71930655, -69.59672489,\n",
       "        54.72733729, -87.21846801])"
      ]
     },
     "execution_count": 11,
     "metadata": {},
     "output_type": "execute_result"
    }
   ],
   "source": [
    "#behaves the same as .uniform(), but you can set the array size you want, in this case 50\n",
    "np.random.uniform(-90.000, 90.000, size = 50)"
   ]
  },
  {
   "cell_type": "code",
   "execution_count": 12,
   "id": "e24177da",
   "metadata": {},
   "outputs": [],
   "source": [
    "#time it is a times to see how long something takes to run...duh\n",
    "#%timeit is the magic command to make it run\n",
    "import timeit"
   ]
  },
  {
   "cell_type": "code",
   "execution_count": 13,
   "id": "89ff639e",
   "metadata": {},
   "outputs": [
    {
     "name": "stdout",
     "output_type": "stream",
     "text": [
      "14.2 µs ± 63.5 ns per loop (mean ± std. dev. of 7 runs, 100000 loops each)\n"
     ]
    }
   ],
   "source": [
    "#how long it took to generate 1500 random latitudes, 12.5 micro seconds\n",
    "%timeit np.random.uniform(-90.000, 90.000, size=1500)"
   ]
  },
  {
   "cell_type": "code",
   "execution_count": 14,
   "id": "7b53a712",
   "metadata": {},
   "outputs": [
    {
     "name": "stdout",
     "output_type": "stream",
     "text": [
      "1.51 ms ± 12.6 µs per loop (mean ± std. dev. of 7 runs, 1000 loops each)\n"
     ]
    }
   ],
   "source": [
    "#how long it takes to run this while loop to generate 1500 rnadom latitudes\n",
    "#1.49 milliseconds, like 100 times slower\n",
    "#tldr, np.random is MUCH MUCH quicker\n",
    "def latitudes(size):\n",
    "    latitudes = []\n",
    "    x = 0\n",
    "    while x < (size):\n",
    "        random_lat = random.randint(-90, 90) + random.random()\n",
    "        latitudes.append(random_lat)\n",
    "        x += 1\n",
    "    return latitudes\n",
    "# Call the function with 1500.\n",
    "%timeit latitudes(1500)"
   ]
  },
  {
   "cell_type": "code",
   "execution_count": 15,
   "id": "e3d56aeb",
   "metadata": {},
   "outputs": [],
   "source": [
    "# Import linear regression from the SciPy stats module.\n",
    "from scipy.stats import linregress"
   ]
  },
  {
   "cell_type": "code",
   "execution_count": 16,
   "id": "0cb4dae3",
   "metadata": {},
   "outputs": [],
   "source": [
    "# Create an equal number of latitudes and temperatures.\n",
    "lats = [42.5, 43.9, 8.1, 36.8, 79.9, 69.1, 25.7, 15.3, 12.7, 64.5]\n",
    "temps = [80.5, 75.3, 90.9, 90.0, 40.4, 62.3, 85.4, 79.6, 72.5, 72.0]"
   ]
  },
  {
   "cell_type": "code",
   "execution_count": 18,
   "id": "0fc8c277",
   "metadata": {},
   "outputs": [
    {
     "name": "stdout",
     "output_type": "stream",
     "text": [
      "y = -0.45x + 92.94\n",
      "The p-value is: 0.011\n",
      "the r value is: -0.7590444753769936\n"
     ]
    }
   ],
   "source": [
    "# Perform linear regression.\n",
    "(slope, intercept, r_value, p_value, std_err) = linregress(lats, temps)\n",
    "# Get the equation of the line.\n",
    "line_eq = \"y = \" + str(round(slope,2)) + \"x + \" + str(round(intercept,2))\n",
    "print(line_eq)\n",
    "print(f\"The p-value is: {p_value:.3f}\")\n",
    "print(f\"the r value is: {r_value}\")"
   ]
  },
  {
   "cell_type": "code",
   "execution_count": null,
   "id": "6737ba9a",
   "metadata": {},
   "outputs": [],
   "source": [
    "# Calculate the regression line \"y values\" from the slope and intercept.\n",
    "regress_values = [(lat * slope + intercept) for lat in lats]"
   ]
  },
  {
   "cell_type": "code",
   "execution_count": null,
   "id": "79dfa0e7",
   "metadata": {},
   "outputs": [],
   "source": [
    "# Import Matplotlib.\n",
    "import matplotlib.pyplot as plt\n",
    "# Create a scatter plot of the x and y values.\n",
    "plt.scatter(lats,temps)\n",
    "# Plot the regression line with the x-values and the y coordinates based on the intercept and slope.\n",
    "plt.plot(lats,regress_values,\"r\")\n",
    "# Annotate the text for the line equation and add its coordinates.\n",
    "plt.annotate(line_eq, (10,40), fontsize=15, color=\"red\")\n",
    "plt.xlabel('Latitude')\n",
    "plt.ylabel('Temp')\n",
    "plt.show()"
   ]
  },
  {
   "cell_type": "code",
   "execution_count": null,
   "id": "f8ba039f",
   "metadata": {},
   "outputs": [],
   "source": []
  }
 ],
 "metadata": {
  "kernelspec": {
   "display_name": "Python 3",
   "language": "python",
   "name": "python3"
  },
  "language_info": {
   "codemirror_mode": {
    "name": "ipython",
    "version": 3
   },
   "file_extension": ".py",
   "mimetype": "text/x-python",
   "name": "python",
   "nbconvert_exporter": "python",
   "pygments_lexer": "ipython3",
   "version": "3.7.10"
  }
 },
 "nbformat": 4,
 "nbformat_minor": 5
}
