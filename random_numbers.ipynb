{
 "cells": [
  {
   "cell_type": "code",
   "execution_count": 1,
   "id": "2689e801",
   "metadata": {},
   "outputs": [],
   "source": [
    "#6.1.4 importing the random module\n",
    "import random\n"
   ]
  },
  {
   "cell_type": "code",
   "execution_count": 2,
   "id": "608d3984",
   "metadata": {},
   "outputs": [
    {
     "data": {
      "text/plain": [
       "0.055102878415393186"
      ]
     },
     "execution_count": 2,
     "metadata": {},
     "output_type": "execute_result"
    }
   ],
   "source": [
    "#a random number, between 0 and 1.0\n",
    "random.random()"
   ]
  },
  {
   "cell_type": "code",
   "execution_count": 3,
   "id": "9ff0f4b5",
   "metadata": {},
   "outputs": [
    {
     "data": {
      "text/plain": [
       "-33"
      ]
     },
     "execution_count": 3,
     "metadata": {},
     "output_type": "execute_result"
    }
   ],
   "source": [
    "#random whole integer in a range, in this case -90 to 90\n",
    "random.randint(-90,90)"
   ]
  },
  {
   "cell_type": "code",
   "execution_count": 4,
   "id": "dce362c1",
   "metadata": {},
   "outputs": [
    {
     "data": {
      "text/plain": [
       "-1"
      ]
     },
     "execution_count": 4,
     "metadata": {},
     "output_type": "execute_result"
    }
   ],
   "source": [
    "#random whole integer in the range that is divisable by the step (in this case 2), will not return a decimal\n",
    "#this will generate incremnets of a given integer value, form the lower to the upper limit\n",
    "random.randrange(-9,9,2)"
   ]
  },
  {
   "cell_type": "code",
   "execution_count": 5,
   "id": "914d2f12",
   "metadata": {},
   "outputs": [
    {
     "data": {
      "text/plain": [
       "-5.398547123189246"
      ]
     },
     "execution_count": 5,
     "metadata": {},
     "output_type": "execute_result"
    }
   ],
   "source": [
    "#random floating point decimal in the range, will not return a whole number\n",
    "random.uniform(-10,10)"
   ]
  },
  {
   "cell_type": "code",
   "execution_count": 6,
   "id": "cc61c068",
   "metadata": {},
   "outputs": [],
   "source": [
    "#this will generate latitudes between -90 and 89\n",
    "#assigning the variable x to 1\n",
    "x=1\n",
    "#initializing an empty list\n",
    "latitudes = []\n",
    "#creating a while loop that generates 10 (as long as x is less than 11) random latitude numbers and adds it to the list\n",
    "while x < 11:\n",
    "    random_lat = random.randint(-90,89) + random.random()\n",
    "    latitudes.append(random_lat)\n",
    "    #adds 1 to x after a latitude is generated\n",
    "    x += 1"
   ]
  },
  {
   "cell_type": "code",
   "execution_count": 7,
   "id": "0b7691c5",
   "metadata": {},
   "outputs": [
    {
     "data": {
      "text/plain": [
       "[64.44783928878539,\n",
       " -55.745717520273374,\n",
       " -3.9901229199110735,\n",
       " 81.69282035138843,\n",
       " -89.84437352701882,\n",
       " -2.587844865337475,\n",
       " 47.52723050982706,\n",
       " -40.66868483010987,\n",
       " -64.3136750415435,\n",
       " -77.9870047122121]"
      ]
     },
     "execution_count": 7,
     "metadata": {},
     "output_type": "execute_result"
    }
   ],
   "source": [
    "latitudes"
   ]
  },
  {
   "cell_type": "code",
   "execution_count": 8,
   "id": "c3a86aca",
   "metadata": {},
   "outputs": [
    {
     "data": {
      "text/plain": [
       "33"
      ]
     },
     "execution_count": 8,
     "metadata": {},
     "output_type": "execute_result"
    }
   ],
   "source": [
    "random.randrange(-90,90, step=3)"
   ]
  },
  {
   "cell_type": "code",
   "execution_count": 9,
   "id": "2512ff70",
   "metadata": {},
   "outputs": [],
   "source": [
    "# Import the NumPy module.\n",
    "import numpy as np"
   ]
  },
  {
   "cell_type": "code",
   "execution_count": 10,
   "id": "f88da1b0",
   "metadata": {},
   "outputs": [
    {
     "data": {
      "text/plain": [
       "-70.17912621746976"
      ]
     },
     "execution_count": 10,
     "metadata": {},
     "output_type": "execute_result"
    }
   ],
   "source": [
    "#behaves the same as the random.uniform\n",
    "np.random.uniform(-90.000, 90.000)"
   ]
  },
  {
   "cell_type": "code",
   "execution_count": 11,
   "id": "ec1b14ef",
   "metadata": {},
   "outputs": [
    {
     "data": {
      "text/plain": [
       "array([ 69.2510122 , -28.29794879,  79.99861636, -20.83912399,\n",
       "        53.13499337,   5.60908315,   8.06938771, -30.32852288,\n",
       "        28.7818887 ,  74.86961713,  21.25436025, -17.72624404,\n",
       "        42.99308954,  65.57643571, -47.15926786,  15.0650121 ,\n",
       "       -37.62044232,  77.37155532,  56.54825272,  19.32800418,\n",
       "        -5.09298533, -31.75878452, -16.94939661, -67.32888788,\n",
       "       -45.18812246,  51.74171943,  66.719888  ,  40.08230541,\n",
       "        75.29507243, -76.76783437,  59.27721529, -29.11441777,\n",
       "        59.15707042,  41.233188  ,   5.97196151, -53.77801295,\n",
       "       -59.62388698,  70.09866054,  22.39737381,  25.88161772,\n",
       "        81.08092894,  53.82700096, -26.13250379,  -6.5034173 ,\n",
       "       -17.83901306,  43.00258068,  84.28231667,  71.63748543,\n",
       "       -31.67036816, -26.40279815])"
      ]
     },
     "execution_count": 11,
     "metadata": {},
     "output_type": "execute_result"
    }
   ],
   "source": [
    "#behaves the same as .uniform(), but you can set the array size you want, in this case 50\n",
    "np.random.uniform(-90.000, 90.000, size = 50)"
   ]
  },
  {
   "cell_type": "code",
   "execution_count": 12,
   "id": "e24177da",
   "metadata": {},
   "outputs": [],
   "source": [
    "#time it is a times to see how long something takes to run...duh\n",
    "#%timeit is the magic command to make it run\n",
    "import timeit"
   ]
  },
  {
   "cell_type": "code",
   "execution_count": 13,
   "id": "89ff639e",
   "metadata": {},
   "outputs": [
    {
     "name": "stdout",
     "output_type": "stream",
     "text": [
      "12.5 µs ± 63.7 ns per loop (mean ± std. dev. of 7 runs, 100000 loops each)\n"
     ]
    }
   ],
   "source": [
    "#how long it took to generate 1500 random latitudes, 12.5 micro seconds\n",
    "%timeit np.random.uniform(-90.000, 90.000, size=1500)"
   ]
  },
  {
   "cell_type": "code",
   "execution_count": 14,
   "id": "7b53a712",
   "metadata": {},
   "outputs": [
    {
     "name": "stdout",
     "output_type": "stream",
     "text": [
      "1.49 ms ± 20.4 µs per loop (mean ± std. dev. of 7 runs, 1000 loops each)\n"
     ]
    }
   ],
   "source": [
    "#how long it takes to run this while loop to generate 1500 rnadom latitudes\n",
    "#1.49 milliseconds, like 100 times slower\n",
    "#tldr, np.random is MUCH MUCH quicker\n",
    "def latitudes(size):\n",
    "    latitudes = []\n",
    "    x = 0\n",
    "    while x < (size):\n",
    "        random_lat = random.randint(-90, 90) + random.random()\n",
    "        latitudes.append(random_lat)\n",
    "        x += 1\n",
    "    return latitudes\n",
    "# Call the function with 1500.\n",
    "%timeit latitudes(1500)"
   ]
  },
  {
   "cell_type": "code",
   "execution_count": null,
   "id": "e3d56aeb",
   "metadata": {},
   "outputs": [],
   "source": []
  }
 ],
 "metadata": {
  "kernelspec": {
   "display_name": "Python 3",
   "language": "python",
   "name": "python3"
  },
  "language_info": {
   "codemirror_mode": {
    "name": "ipython",
    "version": 3
   },
   "file_extension": ".py",
   "mimetype": "text/x-python",
   "name": "python",
   "nbconvert_exporter": "python",
   "pygments_lexer": "ipython3",
   "version": "3.7.10"
  }
 },
 "nbformat": 4,
 "nbformat_minor": 5
}
